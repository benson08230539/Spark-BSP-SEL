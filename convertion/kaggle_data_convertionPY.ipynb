{
 "cells": [
  {
   "cell_type": "code",
   "execution_count": 4,
   "metadata": {},
   "outputs": [
    {
     "name": "stdout",
     "output_type": "stream",
     "text": [
      "3.6.8 |Anaconda custom (64-bit)| (default, Dec 30 2018, 01:22:34) \n",
      "[GCC 7.3.0]\n"
     ]
    }
   ],
   "source": [
    "import sys\n",
    "print(sys.version)"
   ]
  },
  {
   "cell_type": "code",
   "execution_count": 5,
   "metadata": {
    "collapsed": true
   },
   "outputs": [],
   "source": [
    "import socket\n",
    "import pandas as pd\n",
    "import random\n",
    "import os\n",
    "import json\n",
    "import numpy as np\n",
    "from pyspark.rdd import RDD\n",
    "from pydoop import hdfs\n",
    "from pyspark.sql import SparkSession,Row\n",
    "from pyspark import TaskContext\n",
    "from pyspark.mllib.evaluation import BinaryClassificationMetrics\n",
    "from RSP import RSPDM,RSPdataset#*\n",
    "from time import *\n",
    "from datetime import datetime\n",
    "from sklearn.linear_model import SGDClassifier\n",
    "from multiprocessing.pool import ThreadPool"
   ]
  },
  {
   "cell_type": "code",
   "execution_count": 6,
   "metadata": {
    "collapsed": true
   },
   "outputs": [],
   "source": [
    "spark = SparkSession.builder.appName(\n",
    "    \"SVM-EL-PY-Class2\"\n",
    ").config(\n",
    "    \"spark.executor.memory\",\"64g\"\n",
    ").config(\n",
    "    \"spark.executor.cores\",\"8\"\n",
    ").config(\n",
    "    \"spark.dynamicAllocation.maxExecutors\", \"20\"\n",
    ").config(\n",
    "    \"spark.yarn.executor.memoryOverhead\", str(2239)\n",
    ").config(\n",
    "    \"spark.kryoserializer.buffer.max\", \"1024m\"\n",
    ").config(\n",
    "    \"spark.driver.memory\",\"32g\"\n",
    ").config(\n",
    "    \"spark.locality.wait\",\"15\"\n",
    ").config(\n",
    "    \"yarn.nodemanager.vmem-check-enabled\",\"false\"\n",
    ").config(\n",
    "    \"yarn.nodemanager.pmem-check-enabled\",\"false\"\n",
    ").getOrCreate()"
   ]
  },
  {
   "cell_type": "code",
   "execution_count": 7,
   "metadata": {},
   "outputs": [
    {
     "data": {
      "text/plain": [
       "'2.4.0.cloudera2'"
      ]
     },
     "execution_count": 7,
     "metadata": {},
     "output_type": "execute_result"
    }
   ],
   "source": [
    "spark.version"
   ]
  },
  {
   "cell_type": "code",
   "execution_count": 8,
   "metadata": {
    "collapsed": true
   },
   "outputs": [],
   "source": [
    "bspfilepath = \"/user/luokaijing/classification_BSP/raw_kaggle/train.csv\"\n",
    "rawDF = spark.read.format(\"csv\").option(\"header\", \"true\").option(\"inferSchema\", \"true\").load(bspfilepath)"
   ]
  },
  {
   "cell_type": "code",
   "execution_count": 9,
   "metadata": {},
   "outputs": [
    {
     "name": "stdout",
     "output_type": "stream",
     "text": [
      "root\n",
      " |-- lgbmcpu: double (nullable = true)\n",
      " |-- lgbmgpu: double (nullable = true)\n",
      " |-- xgb: double (nullable = true)\n",
      " |-- catgpu: double (nullable = true)\n",
      " |-- catcpu: double (nullable = true)\n",
      " |-- target: integer (nullable = true)\n",
      " |-- histcpu: double (nullable = true)\n",
      " |-- lgbmseed: double (nullable = true)\n",
      " |-- lgbmseed2: double (nullable = true)\n",
      " |-- lgbmseed3: double (nullable = true)\n",
      " |-- lgbmseed4: double (nullable = true)\n",
      " |-- voting_5cat: double (nullable = true)\n",
      " |-- voting_7cat: double (nullable = true)\n",
      " |-- voting_5xgb: double (nullable = true)\n",
      " |-- catseed: double (nullable = true)\n",
      " |-- lgbmgpu_seed: double (nullable = true)\n",
      " |-- lgbm1_seed: double (nullable = true)\n",
      " |-- lgbm2_seed: double (nullable = true)\n",
      " |-- lgbm3_seed: double (nullable = true)\n",
      " |-- xgb_seed: double (nullable = true)\n",
      " |-- hist_seed: double (nullable = true)\n",
      " |-- xgb_op: double (nullable = true)\n",
      " |-- lgbm_k: double (nullable = true)\n",
      " |-- lgbm2_k: double (nullable = true)\n",
      " |-- cat_k: double (nullable = true)\n",
      " |-- xgb_k: double (nullable = true)\n",
      " |-- hist_k: double (nullable = true)\n",
      " |-- xgb_top: double (nullable = true)\n",
      "\n"
     ]
    }
   ],
   "source": [
    "rawDF.printSchema()"
   ]
  },
  {
   "cell_type": "code",
   "execution_count": 10,
   "metadata": {
    "collapsed": true
   },
   "outputs": [],
   "source": [
    "#core:convertion\n",
    "from pyspark.sql.functions import array\n",
    "from pyspark.sql.functions import col\n",
    "cols1 = [\"lgbmcpu\", \"lgbmgpu\", \"xgb\", \"catgpu\", \"catcpu\", \"histcpu\", \"lgbmseed\", \"lgbmseed2\", \"lgbmseed3\", \"lgbmseed4\", \"voting_5cat\", \"voting_7cat\", \"voting_5xgb\", \"catseed\", \"lgbmgpu_seed\", \"lgbm1_seed\", \"lgbm2_seed\", \"lgbm3_seed\", \"xgb_seed\", \"hist_seed\", \"xgb_op\", \"lgbm_k\", \"lgbm2_k\", \"cat_k\", \"xgb_k\", \"hist_k\", \"xgb_top\"]\n",
    "df = rawDF.withColumn('features', array([col(c) for c in cols1]))"
   ]
  },
  {
   "cell_type": "code",
   "execution_count": 11,
   "metadata": {},
   "outputs": [
    {
     "name": "stdout",
     "output_type": "stream",
     "text": [
      "root\n",
      " |-- lgbmcpu: double (nullable = true)\n",
      " |-- lgbmgpu: double (nullable = true)\n",
      " |-- xgb: double (nullable = true)\n",
      " |-- catgpu: double (nullable = true)\n",
      " |-- catcpu: double (nullable = true)\n",
      " |-- target: integer (nullable = true)\n",
      " |-- histcpu: double (nullable = true)\n",
      " |-- lgbmseed: double (nullable = true)\n",
      " |-- lgbmseed2: double (nullable = true)\n",
      " |-- lgbmseed3: double (nullable = true)\n",
      " |-- lgbmseed4: double (nullable = true)\n",
      " |-- voting_5cat: double (nullable = true)\n",
      " |-- voting_7cat: double (nullable = true)\n",
      " |-- voting_5xgb: double (nullable = true)\n",
      " |-- catseed: double (nullable = true)\n",
      " |-- lgbmgpu_seed: double (nullable = true)\n",
      " |-- lgbm1_seed: double (nullable = true)\n",
      " |-- lgbm2_seed: double (nullable = true)\n",
      " |-- lgbm3_seed: double (nullable = true)\n",
      " |-- xgb_seed: double (nullable = true)\n",
      " |-- hist_seed: double (nullable = true)\n",
      " |-- xgb_op: double (nullable = true)\n",
      " |-- lgbm_k: double (nullable = true)\n",
      " |-- lgbm2_k: double (nullable = true)\n",
      " |-- cat_k: double (nullable = true)\n",
      " |-- xgb_k: double (nullable = true)\n",
      " |-- hist_k: double (nullable = true)\n",
      " |-- xgb_top: double (nullable = true)\n",
      " |-- features: array (nullable = false)\n",
      " |    |-- element: double (containsNull = true)\n",
      "\n"
     ]
    }
   ],
   "source": [
    "df.printSchema()"
   ]
  },
  {
   "cell_type": "code",
   "execution_count": 12,
   "metadata": {
    "collapsed": true
   },
   "outputs": [],
   "source": [
    "dataset1 = df.select(\"features\",\"target\").withColumnRenamed(\"target\",\"label\")"
   ]
  },
  {
   "cell_type": "code",
   "execution_count": 13,
   "metadata": {},
   "outputs": [
    {
     "name": "stdout",
     "output_type": "stream",
     "text": [
      "root\n",
      " |-- features: array (nullable = false)\n",
      " |    |-- element: double (containsNull = true)\n",
      " |-- label: integer (nullable = true)\n",
      "\n"
     ]
    }
   ],
   "source": [
    "dataset1.printSchema()"
   ]
  },
  {
   "cell_type": "code",
   "execution_count": 14,
   "metadata": {
    "collapsed": true
   },
   "outputs": [],
   "source": [
    "dataset1.write.parquet(\"./train.parquet\")"
   ]
  },
  {
   "cell_type": "code",
   "execution_count": null,
   "metadata": {
    "collapsed": true
   },
   "outputs": [],
   "source": [
    "dataset1.write.csv(\"./train_array.csv\")#AnalysisException: 'CSV data source does not support array<double> data type"
   ]
  }
 ],
 "metadata": {
  "kernelspec": {
   "display_name": "anaconda3_for_pyspark",
   "language": "python",
   "name": "anaconda3_cluster"
  },
  "language_info": {
   "codemirror_mode": {
    "name": "ipython",
    "version": 3
   },
   "file_extension": ".py",
   "mimetype": "text/x-python",
   "name": "python",
   "nbconvert_exporter": "python",
   "pygments_lexer": "ipython3",
   "version": "3.6.8"
  },
  "toc": {
   "base_numbering": 1,
   "nav_menu": {},
   "number_sections": false,
   "sideBar": false,
   "skip_h1_title": false,
   "title_cell": "Table of Contents",
   "title_sidebar": "Contents",
   "toc_cell": false,
   "toc_position": {},
   "toc_section_display": false,
   "toc_window_display": false
  }
 },
 "nbformat": 4,
 "nbformat_minor": 2
}
