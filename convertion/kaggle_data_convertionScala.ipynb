{
 "cells": [
  {
   "cell_type": "markdown",
   "metadata": {},
   "source": [
    "## 1.先转Vector ； 2.再转Array"
   ]
  },
  {
   "cell_type": "code",
   "execution_count": 20,
   "metadata": {},
   "outputs": [
    {
     "data": {
      "text/plain": [
       "memory = 32\n",
       "overhead = 2293\n",
       "ememory = 30\n",
       "spark = org.apache.spark.sql.SparkSession@41af84d4\n"
      ]
     },
     "metadata": {},
     "output_type": "display_data"
    },
    {
     "data": {
      "text/html": [
       "<ul>\n",
       "<li><a href=\"Some(http://Medusa002:4045)\" target=\"new_tab\">Spark UI: application_1631593462186_0510</a></li>\n",
       "</ul>"
      ],
      "text/plain": [
       "Spark application_1631593462186_0510: Some(http://Medusa002:4045)"
      ]
     },
     "execution_count": 20,
     "metadata": {},
     "output_type": "execute_result"
    }
   ],
   "source": [
    "var memory = 32\n",
    "var overhead = (memory*1024*0.07).toInt\n",
    "var ememory = (memory * 1024 - overhead)/1024 + 1\n",
    "val spark = SparkSession\n",
    "      .builder      //创建spark会话\n",
    "      .master(\"yarn\")  //设置本地模式\n",
    "      .appName(\"kaggle_data_convertion_scala\")  //设置名称\n",
    "      .config(\"spark.executor.instances\",\"10\")\n",
    "      .config(\"spark.dynamicAllocation.maxExecutors\", \"20\")\n",
    "      .config(\"spark.serializer\", \"org.apache.spark.serializer.KryoSerializer\")\n",
    "      .config(\"spark.kryoserializer.buffer.max\", \"512m\")\n",
    "      .config(\"spark.executor.memory\",\"32g\")\n",
    "      .config(\"spark.driver.memory\",\"32g\")\n",
    "      .config(\"spark.locality.wait\",\"15\")\n",
    "      .config(\"spark.yarn.executor.memoryOverhead\", String.valueOf(overhead))\n",
    "      .getOrCreate() //创建会话变量"
   ]
  },
  {
   "cell_type": "code",
   "execution_count": 21,
   "metadata": {},
   "outputs": [
    {
     "name": "stdout",
     "output_type": "stream",
     "text": [
      "Using cached version of spark-bsp_2.11-2.4.0.jar\n"
     ]
    }
   ],
   "source": [
    "%AddJar  file:///home/luokaijing/spark-bsp_2.11-2.4.0.jar"
   ]
  },
  {
   "cell_type": "code",
   "execution_count": 22,
   "metadata": {},
   "outputs": [
    {
     "data": {
      "text/plain": [
       "path = /user/luokaijing/classification_BSP/raw_kaggle/train.csv\n"
      ]
     },
     "metadata": {},
     "output_type": "display_data"
    },
    {
     "data": {
      "text/plain": [
       "/user/luokaijing/classification_BSP/raw_kaggle/train.csv"
      ]
     },
     "execution_count": 22,
     "metadata": {},
     "output_type": "execute_result"
    }
   ],
   "source": [
    "val path = \"/user/luokaijing/classification_BSP/raw_kaggle/train.csv\""
   ]
  },
  {
   "cell_type": "code",
   "execution_count": 23,
   "metadata": {},
   "outputs": [
    {
     "data": {
      "text/plain": [
       "rawDF = [lgbmcpu: double, lgbmgpu: double ... 26 more fields]\n"
      ]
     },
     "metadata": {},
     "output_type": "display_data"
    },
    {
     "data": {
      "text/plain": [
       "[lgbmcpu: double, lgbmgpu: double ... 26 more fields]"
      ]
     },
     "execution_count": 23,
     "metadata": {},
     "output_type": "execute_result"
    }
   ],
   "source": [
    "var rawDF = spark.read.format(\"csv\").option(\"header\", \"true\").option(\"inferSchema\", \"true\").load(path)"
   ]
  },
  {
   "cell_type": "code",
   "execution_count": 24,
   "metadata": {},
   "outputs": [
    {
     "data": {
      "text/plain": [
       "cols1 = Array(lgbmcpu, lgbmgpu, xgb, catgpu, catcpu, histcpu, lgbmseed, lgbmseed2, lgbmseed3, lgbmseed4, voting_5cat, voting_7cat, voting_5xgb, catseed, lgbmgpu_seed, lgbm1_seed, lgbm2_seed, lgbm3_seed, xgb_seed, hist_seed, xgb_op, lgbm_k, lgbm2_k, cat_k, xgb_k, hist_k, xgb_top)\n",
       "cols = Array(lgbmcpu, lgbmgpu, xgb, catgpu, catcpu, histcpu, lgbmseed, lgbmseed2, lgbmseed3, lgbmseed4, voting_5cat, voting_7cat, voting_5xgb, catseed, lgbmgpu_seed, lgbm1_seed, lgbm2_seed, lgbm3_seed, xgb_seed, hist_seed, xgb_op, lgbm_k, lgbm2_k, cat_k, xgb_k, hist_k, xgb_top)\n"
      ]
     },
     "metadata": {},
     "output_type": "display_data"
    },
    {
     "data": {
      "text/plain": [
       "[lgbmcpu, lgbmgpu, xgb, catgpu, catcpu, histcpu, lgbmseed, lgbmseed2, lgbmseed3, lgbmseed4, voting_5cat, voting_7cat, voting_5xgb, catseed, lgbmgpu_seed, lgbm1_seed, lgbm2_seed, lgbm3_seed, xgb_seed, hist_seed, xgb_op, lgbm_k, lgbm2_k, cat_k, xgb_k, hist_k, xgb_top]"
      ]
     },
     "execution_count": 24,
     "metadata": {},
     "output_type": "execute_result"
    }
   ],
   "source": [
    "val cols1 = Array(\"lgbmcpu\", \"lgbmgpu\", \"xgb\", \"catgpu\", \"catcpu\", \"histcpu\", \"lgbmseed\", \"lgbmseed2\", \"lgbmseed3\", \"lgbmseed4\", \"voting_5cat\", \"voting_7cat\", \"voting_5xgb\", \"catseed\", \"lgbmgpu_seed\", \"lgbm1_seed\", \"lgbm2_seed\", \"lgbm3_seed\", \"xgb_seed\", \"hist_seed\", \"xgb_op\", \"lgbm_k\", \"lgbm2_k\", \"cat_k\", \"xgb_k\", \"hist_k\", \"xgb_top\")\n",
    "val cols = Array(\"lgbmcpu\", \"lgbmgpu\", \"xgb\", \"catgpu\", \"catcpu\", \"histcpu\", \"lgbmseed\", \"lgbmseed2\", \"lgbmseed3\", \"lgbmseed4\", \"voting_5cat\", \"voting_7cat\", \"voting_5xgb\", \"catseed\", \"lgbmgpu_seed\", \"lgbm1_seed\", \"lgbm2_seed\", \"lgbm3_seed\", \"xgb_seed\", \"hist_seed\", \"xgb_op\", \"lgbm_k\", \"lgbm2_k\", \"cat_k\", \"xgb_k\", \"hist_k\", \"xgb_top\")"
   ]
  },
  {
   "cell_type": "code",
   "execution_count": 25,
   "metadata": {
    "collapsed": true
   },
   "outputs": [],
   "source": [
    "import org.apache.spark.ml.feature.{LabeledPoint, VectorAssembler}\n",
    "import org.apache.spark.ml.linalg.{Vector, Vectors}\n",
    "import org.apache.spark.ml.stat.Summarizer\n",
    "import org.apache.spark.sql.{Row, SparkSession}"
   ]
  },
  {
   "cell_type": "code",
   "execution_count": 26,
   "metadata": {},
   "outputs": [
    {
     "data": {
      "text/plain": [
       "assembler = vecAssembler_76b2aab64252\n",
       "dataset = [lgbmcpu: double, lgbmgpu: double ... 27 more fields]\n"
      ]
     },
     "metadata": {},
     "output_type": "display_data"
    },
    {
     "data": {
      "text/plain": [
       "[lgbmcpu: double, lgbmgpu: double ... 27 more fields]"
      ]
     },
     "execution_count": 26,
     "metadata": {},
     "output_type": "execute_result"
    }
   ],
   "source": [
    "//合并成 vector\n",
    "val assembler = new VectorAssembler()\n",
    "  .setInputCols(cols)\n",
    "  .setOutputCol(\"features\")\n",
    "val dataset = assembler.transform(rawDF)"
   ]
  },
  {
   "cell_type": "code",
   "execution_count": 27,
   "metadata": {},
   "outputs": [
    {
     "data": {
      "text/plain": [
       "dataset1 = [features: vector, label: int]\n"
      ]
     },
     "metadata": {},
     "output_type": "display_data"
    },
    {
     "data": {
      "text/plain": [
       "[features: vector, label: int]"
      ]
     },
     "execution_count": 27,
     "metadata": {},
     "output_type": "execute_result"
    }
   ],
   "source": [
    "val dataset1 = dataset.select($\"features\",$\"target\").withColumnRenamed(\"target\",\"label\")"
   ]
  },
  {
   "cell_type": "code",
   "execution_count": 28,
   "metadata": {
    "collapsed": true
   },
   "outputs": [],
   "source": [
    "import org.apache.spark.sql.types._"
   ]
  },
  {
   "cell_type": "code",
   "execution_count": 30,
   "metadata": {},
   "outputs": [
    {
     "data": {
      "text/plain": [
       "x = StructType(StructField(features,ArrayType(DoubleType,true),true), StructField(label,IntegerType,true))\n"
      ]
     },
     "metadata": {},
     "output_type": "display_data"
    },
    {
     "data": {
      "text/plain": [
       "StructType(StructField(features,ArrayType(DoubleType,true),true), StructField(label,IntegerType,true))"
      ]
     },
     "execution_count": 30,
     "metadata": {},
     "output_type": "execute_result"
    }
   ],
   "source": [
    "val x = StructType(Seq(\n",
    "  StructField(\"features\", ArrayType(DoubleType,true),true),\n",
    "  StructField(\"label\", IntegerType,true)\n",
    "))"
   ]
  },
  {
   "cell_type": "code",
   "execution_count": 33,
   "metadata": {},
   "outputs": [
    {
     "data": {
      "text/plain": [
       "BspDF_RDD1 = MapPartitionsRDD[15] at map at <console>:63\n"
      ]
     },
     "metadata": {},
     "output_type": "display_data"
    },
    {
     "data": {
      "text/plain": [
       "MapPartitionsRDD[15] at map at <console>:63"
      ]
     },
     "execution_count": 33,
     "metadata": {},
     "output_type": "execute_result"
    }
   ],
   "source": [
    "val BspDF_RDD1 = dataset1.rdd.map(row => Row(row(0).asInstanceOf[Vector].toArray, row(1)))"
   ]
  },
  {
   "cell_type": "code",
   "execution_count": 34,
   "metadata": {},
   "outputs": [
    {
     "data": {
      "text/plain": [
       "BspDF_input = [features: array<double>, label: int]\n"
      ]
     },
     "metadata": {},
     "output_type": "display_data"
    },
    {
     "data": {
      "text/plain": [
       "[features: array<double>, label: int]"
      ]
     },
     "execution_count": 34,
     "metadata": {},
     "output_type": "execute_result"
    }
   ],
   "source": [
    "val BspDF_input = spark.createDataFrame(BspDF_RDD1, x)"
   ]
  },
  {
   "cell_type": "code",
   "execution_count": 35,
   "metadata": {
    "collapsed": true
   },
   "outputs": [],
   "source": [
    "BspDF_input.write.parquet(\"./classification_BSP/train.parquet\")"
   ]
  },
  {
   "cell_type": "code",
   "execution_count": 19,
   "metadata": {
    "collapsed": true
   },
   "outputs": [],
   "source": [
    "spark.stop()"
   ]
  }
 ],
 "metadata": {
  "kernelspec": {
   "display_name": "Apache Toree - Scala Spark",
   "language": "scala",
   "name": "scala_spark"
  },
  "language_info": {
   "codemirror_mode": "text/x-scala",
   "file_extension": ".scala",
   "mimetype": "text/x-scala",
   "name": "scala",
   "pygments_lexer": "scala",
   "version": "2.11.8"
  },
  "toc": {
   "base_numbering": 1,
   "nav_menu": {},
   "number_sections": false,
   "sideBar": false,
   "skip_h1_title": false,
   "title_cell": "Table of Contents",
   "title_sidebar": "Contents",
   "toc_cell": false,
   "toc_position": {},
   "toc_section_display": false,
   "toc_window_display": false
  }
 },
 "nbformat": 4,
 "nbformat_minor": 2
}
